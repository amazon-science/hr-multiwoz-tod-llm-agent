{
 "cells": [
  {
   "cell_type": "code",
   "execution_count": 62,
   "metadata": {},
   "outputs": [],
   "source": [
    "import pickle\n",
    "with open('/local/home/weijiexu/workspace/M2MHR/src/data/generated_dictionary_step5.pkl', 'rb') as f:\n",
    "    loaded_dict = pickle.load(f)"
   ]
  },
  {
   "cell_type": "code",
   "execution_count": 63,
   "metadata": {},
   "outputs": [
    {
     "data": {
      "text/plain": [
       "dict_keys([1, 5, 6, 7, 8, 10, 11, 14, 17, 22, 23, 24, 25, 29, 31, 32, 36, 38, 40, 42, 46, 47, 48, 49, 50, 51, 54, 55, 59, 60, 61, 62, 63, 65, 67, 69, 72, 74, 76, 77, 79, 81, 82, 84, 85, 86, 87, 88, 89, 90, 91, 93, 94, 95, 96, 97, 98, 99, 100, 102, 105, 106, 107, 108, 111, 113, 115, 120, 121, 122, 126, 127, 128, 129, 130, 131, 134, 135, 136, 137, 140, 141, 142, 144, 145, 146, 147, 148, 149, 151, 155, 156, 157, 160, 161, 162, 164, 167, 169, 172, 173, 174, 175, 177, 178, 180, 181, 182, 183, 185, 186, 187, 189, 190, 191, 192, 194, 195, 196, 197, 198, 199, 201, 202, 205, 206, 207, 208, 209, 215, 216, 217, 218, 219, 222, 223, 226, 228, 229, 230, 233, 238, 241, 242, 243, 245, 246, 247, 249, 250, 251, 252, 253, 256, 257, 260, 263, 264, 265, 266, 267, 270, 271, 273, 275, 279, 280, 283, 285, 286, 287, 288, 289, 291, 294, 295, 296, 299, 301, 303, 304, 305, 308, 310, 312, 313, 314, 315, 316, 317, 319, 322, 324, 328, 329, 330, 331, 332, 333, 334, 335, 338, 340, 341, 342, 345, 347, 348, 349, 352, 353, 354, 355, 356, 357, 358, 360, 362, 363, 364, 365, 369, 370, 372, 374, 375, 377, 378, 379, 381, 382, 384, 385, 388, 390, 392, 393, 394, 396, 398, 399, 402, 403, 404, 407, 409, 410, 411, 412, 413, 415, 419, 422, 425, 427, 428, 429, 430, 432, 433, 434, 436, 438, 441, 442, 444, 446, 448, 449, 451, 453, 454, 456, 458, 459, 460, 463, 464, 465, 466, 467, 468, 469, 470, 471, 472, 473, 474, 475, 476, 477, 478, 479, 480, 481, 482, 484, 485, 486, 487, 488, 490, 491, 493, 495, 496, 497, 498, 499, 500, 501, 502, 503, 504, 505, 506, 512, 514, 516, 517, 521, 522, 523, 524, 526, 527, 528, 529, 531, 532, 534, 536, 538, 539, 543, 545, 546, 549, 550, 554, 557, 558, 560, 561, 562, 563, 566, 568, 570, 572, 573, 574, 575, 576, 578, 579, 580, 583, 584, 586, 588, 589, 590, 591, 592, 593, 594, 595, 596, 597, 599, 600, 603, 604, 605, 607, 609, 610, 611, 612, 614, 615, 616, 620, 621, 622, 624, 625, 626, 627, 629, 630, 633, 635, 636, 637, 638, 639, 644, 646, 647, 648, 649, 651, 654, 655, 657, 658, 661, 662, 663, 664, 665, 666, 667, 668, 669, 671, 673, 675, 676, 679, 680, 683, 684, 686, 687, 688, 689, 691, 695, 697, 700, 702, 704, 706, 707, 708, 709, 712, 713, 714, 716, 718, 719, 720, 721, 722, 724, 725, 727, 728, 730, 732, 733, 734, 735, 737, 738, 739, 740, 745, 746, 747, 751, 752, 753, 754, 755, 757, 758, 759, 760, 761, 762, 763, 764, 765, 766, 768, 769, 771, 772, 773, 774, 775, 776, 777, 779, 780, 781, 782, 785, 789, 791, 792, 795, 796, 798, 799, 800, 802, 804, 805, 806, 808, 809, 811, 812, 814, 815, 816, 817, 820, 823, 824, 827, 832, 835, 837, 838, 839, 840, 842, 844, 846, 848, 849, 850, 851, 852, 853, 855, 856, 857, 858, 859, 860, 861, 862, 863, 867, 868, 869, 871, 873, 874, 877, 879, 880])"
      ]
     },
     "execution_count": 63,
     "metadata": {},
     "output_type": "execute_result"
    }
   ],
   "source": [
    "#each key represent a different conversation\n",
    "loaded_dict.keys()"
   ]
  },
  {
   "cell_type": "code",
   "execution_count": 64,
   "metadata": {},
   "outputs": [
    {
     "data": {
      "text/plain": [
       "\"\\nHR Assistant: Hi there, how can I help you out today?\\nEmployee: I'm hoping you can help me set up some machine learning training for my team.\\nHR Assistant: No problem, tell me a bit about what kind of training you're looking for. What will you guys be learning about and do you need any special accommodations?\\nEmployee: We're hoping to improve our machine learning research skills. But no special accommodations are needed.\\nHR Assistant: Great, how many people will be attending this training? And approximately how long do you think it should last?  \\nEmployee: Three people will be participating and we'd like it to run for two days.\\nHR Assistant: Okay, thanks. Do you have a budget in mind for this? It would also help to know what your goals are for your team after the training.\\nEmployee: Our budget is $5000. We want to come away with better research skills.\\nHR Assistant: No problem, when works best for your schedule? Also, do you have a preference for how the training is delivered, like online or in-person?\\nEmployee: We're hoping for some online seminars on June 15th, 2023.\\nHR Assistant: Sounds good. One last thing - would you say your team's current skill level is beginner, intermediate or advanced? And can you provide the contact info for the person coordinating it all?\\nEmployee: Their level is intermediate. The coordinator is Henry Kim and you can reach him at hkim@researchlab.com or 555-1234.\\n\""
      ]
     },
     "execution_count": 64,
     "metadata": {},
     "output_type": "execute_result"
    }
   ],
   "source": [
    "#For each data point, the whole conversation is represented by in the second part of the list each turn is splited by \\n \n",
    "loaded_dict[1][1]"
   ]
  },
  {
   "cell_type": "code",
   "execution_count": 65,
   "metadata": {},
   "outputs": [
    {
     "data": {
      "text/plain": [
       "[['access_type', 'approval_from_supervisor'],\n",
       " 'What type of access are you requesting? (e.g., System, Building, Document) Do you have approval from your supervisor or a relevant authority? (Name of approver)',\n",
       " 'System access request, John Smith',\n",
       " 'HR Assistant: What type of access are you looking to request? For example, is it system access, building access or document access? Do you have approval from your direct supervisor or another authorizing person? If so, who approved it?',\n",
       " 'Employee: I am requesting system access. John Smith approved the request.',\n",
       " [(' system access.', 0.6824370622634888),\n",
       "  (' John Smith', 0.8886477947235107)]]"
      ]
     },
     "execution_count": 65,
     "metadata": {},
     "output_type": "execute_result"
    }
   ],
   "source": [
    "#For each data point, each turn is represented as the sublist\n",
    "#it contains firve things\n",
    "#topics, relevant questions, ground truth answer, rephrased question, complete answer, extracted answer with confidence.\n",
    "loaded_dict[6][0][3]\n"
   ]
  },
  {
   "cell_type": "code",
   "execution_count": 67,
   "metadata": {},
   "outputs": [],
   "source": [
    "import pandas as pd\n",
    "assistants = []\n",
    "employees = []\n",
    "for index in loaded_dict:\n",
    "    for turn in loaded_dict[index][0]:\n",
    "        assistants.append(turn[3])\n",
    "        employees.append(turn[4])\n",
    "assistants = pd.DataFrame(assistants)\n",
    "employees = pd.DataFrame(employees)\n",
    "assistants.to_csv('assistants.csv', header=None)\n",
    "employees.to_csv('employees.csv', header=None)\n"
   ]
  },
  {
   "cell_type": "code",
   "execution_count": null,
   "metadata": {},
   "outputs": [],
   "source": [
    "#the ideal result is done by getting the ground truth that can be extracted by Employee answer like the following:\n",
    "\n",
    "[['training_topic', 'special_requirements'],\n",
    " 'What is the main topic or subject of the training you are requesting? Are there any special requirements or accommodations needed for the training?',\n",
    " 'Machine learning research, None',\n",
    " \"HR Assistant: No problem, tell me a bit about what kind of training you're looking for. What will you guys be learning about and do you need any special accommodations?\",\n",
    " \"Employee: We're hoping to improve our machine learning research skills. But no special accommodations are needed.\",\n",
    " ['machine learning research', 'no special accommodations']]\n",
    "\n"
   ]
  },
  {
   "cell_type": "code",
   "execution_count": 1,
   "metadata": {},
   "outputs": [],
   "source": [
    "import pickle\n",
    "with open('/local/home/weijiexu/workspace/M2MHR/src/data/generated_dictionary_step6.pkl', 'rb') as f:\n",
    "    loaded_dict = pickle.load(f)"
   ]
  },
  {
   "cell_type": "code",
   "execution_count": 11,
   "metadata": {},
   "outputs": [],
   "source": [
    "scores = []\n",
    "for index in loaded_dict:\n",
    "    for value in loaded_dict[index][0]:\n",
    "        for score in value[-2]:\n",
    "            scores.append(score[1])"
   ]
  },
  {
   "cell_type": "code",
   "execution_count": 14,
   "metadata": {},
   "outputs": [
    {
     "data": {
      "text/plain": [
       "(array([202.,  54.,  60.,  58.,  44.,  67.,  41.,  62.,  51.,  52.,  48.,\n",
       "         54.,  49.,  58.,  60.,  80.,  75.,  60.,  64.,  73.,  44.,  56.,\n",
       "         46.,  65.,  63.,  50.,  46.,  69.,  53.,  53.,  37.,  42.,  73.,\n",
       "         48.,  76.,  59.,  56.,  51.,  47.,  51.,  56.,  52.,  43.,  53.,\n",
       "         77.,  51.,  56.,  70.,  52.,  72.,  75.,  57.,  50.,  47.,  69.,\n",
       "         52.,  49.,  40.,  46.,  47.,  37.,  33.,  37.,  45.,  48.,  37.,\n",
       "         35.,  40.,  45.,  42.,  48.,  39.,  41.,  47.,  51.,  56.,  43.,\n",
       "         48.,  54.,  53.,  36.,  48.,  55.,  57.,  48.,  59.,  63.,  58.,\n",
       "         76.,  76.,  94.,  85., 104., 113., 109., 136., 137., 127.,  90.,\n",
       "         45.]),\n",
       " array([2.99405917e-10, 9.97341603e-03, 1.99468318e-02, 2.99202475e-02,\n",
       "        3.98936632e-02, 4.98670789e-02, 5.98404947e-02, 6.98139104e-02,\n",
       "        7.97873261e-02, 8.97607419e-02, 9.97341576e-02, 1.09707573e-01,\n",
       "        1.19680989e-01, 1.29654405e-01, 1.39627821e-01, 1.49601236e-01,\n",
       "        1.59574652e-01, 1.69548068e-01, 1.79521483e-01, 1.89494899e-01,\n",
       "        1.99468315e-01, 2.09441731e-01, 2.19415146e-01, 2.29388562e-01,\n",
       "        2.39361978e-01, 2.49335394e-01, 2.59308809e-01, 2.69282225e-01,\n",
       "        2.79255641e-01, 2.89229056e-01, 2.99202472e-01, 3.09175888e-01,\n",
       "        3.19149304e-01, 3.29122719e-01, 3.39096135e-01, 3.49069551e-01,\n",
       "        3.59042967e-01, 3.69016382e-01, 3.78989798e-01, 3.88963214e-01,\n",
       "        3.98936629e-01, 4.08910045e-01, 4.18883461e-01, 4.28856877e-01,\n",
       "        4.38830292e-01, 4.48803708e-01, 4.58777124e-01, 4.68750540e-01,\n",
       "        4.78723955e-01, 4.88697371e-01, 4.98670787e-01, 5.08644202e-01,\n",
       "        5.18617618e-01, 5.28591034e-01, 5.38564450e-01, 5.48537865e-01,\n",
       "        5.58511281e-01, 5.68484697e-01, 5.78458113e-01, 5.88431528e-01,\n",
       "        5.98404944e-01, 6.08378360e-01, 6.18351776e-01, 6.28325191e-01,\n",
       "        6.38298607e-01, 6.48272023e-01, 6.58245438e-01, 6.68218854e-01,\n",
       "        6.78192270e-01, 6.88165686e-01, 6.98139101e-01, 7.08112517e-01,\n",
       "        7.18085933e-01, 7.28059349e-01, 7.38032764e-01, 7.48006180e-01,\n",
       "        7.57979596e-01, 7.67953011e-01, 7.77926427e-01, 7.87899843e-01,\n",
       "        7.97873259e-01, 8.07846674e-01, 8.17820090e-01, 8.27793506e-01,\n",
       "        8.37766922e-01, 8.47740337e-01, 8.57713753e-01, 8.67687169e-01,\n",
       "        8.77660584e-01, 8.87634000e-01, 8.97607416e-01, 9.07580832e-01,\n",
       "        9.17554247e-01, 9.27527663e-01, 9.37501079e-01, 9.47474495e-01,\n",
       "        9.57447910e-01, 9.67421326e-01, 9.77394742e-01, 9.87368158e-01,\n",
       "        9.97341573e-01]),\n",
       " <BarContainer object of 100 artists>)"
      ]
     },
     "execution_count": 14,
     "metadata": {},
     "output_type": "execute_result"
    },
    {
     "data": {
      "image/png": "[encoded data removed]",
      "text/plain": [
       "<Figure size 640x480 with 1 Axes>"
      ]
     },
     "metadata": {},
     "output_type": "display_data"
    }
   ],
   "source": [
    "import matplotlib.pyplot as plt\n",
    "\n",
    "plt.hist(scores, bins=100)"
   ]
  },
  {
   "cell_type": "code",
   "execution_count": 15,
   "metadata": {},
   "outputs": [
    {
     "data": {
      "text/plain": [
       "6006"
      ]
     },
     "execution_count": 15,
     "metadata": {},
     "output_type": "execute_result"
    }
   ],
   "source": [
    "len(scores)"
   ]
  },
  {
   "cell_type": "code",
   "execution_count": 18,
   "metadata": {},
   "outputs": [
    {
     "data": {
      "text/plain": [
       "1313"
      ]
     },
     "execution_count": 18,
     "metadata": {},
     "output_type": "execute_result"
    }
   ],
   "source": [
    "len([i for i in scores if i < 0.2])"
   ]
  },
  {
   "cell_type": "code",
   "execution_count": 22,
   "metadata": {},
   "outputs": [
    {
     "data": {
      "text/plain": [
       "[['desired_relocation_date'],\n",
       " 'When do you wish to relocate? (Enter the date in YYYY-MM-DD format)',\n",
       " '2023-06-01',\n",
       " 'HR Assistant: No problem, when would be the ideal time frame for you to complete the relocation? Please provide a date.',\n",
       " 'Employee: June 1st, 2023.',\n",
       " [(' June 1st, 2023.', 0.021046042442321777)],\n",
       " ['June 1st, 2023']]"
      ]
     },
     "execution_count": 22,
     "metadata": {},
     "output_type": "execute_result"
    }
   ],
   "source": [
    "loaded_dict[index][0][-2]"
   ]
  },
  {
   "cell_type": "code",
   "execution_count": 23,
   "metadata": {},
   "outputs": [],
   "source": [
    "import pickle\n",
    "with open('/local/home/weijiexu/workspace/M2MHR/src/data/generated_dictionary_step3.pkl', 'rb') as f:\n",
    "    loaded_dict3 = pickle.load(f)"
   ]
  },
  {
   "cell_type": "code",
   "execution_count": 26,
   "metadata": {},
   "outputs": [
    {
     "data": {
      "text/plain": [
       "[[[['training_topic', 'special_requirements'],\n",
       "   'What is the main topic or subject of the training you are requesting? Are there any special requirements or accommodations needed for the training?',\n",
       "   'Machine learning research, None',\n",
       "   \"HR Assistant: No problem, tell me a bit about what kind of training you're looking for. What will you guys be learning about and do you need any special accommodations?\",\n",
       "   \"Employee: We're hoping to improve our machine learning research skills. But no special accommodations are needed.\",\n",
       "   [(' machine learning', 0.4094354510307312),\n",
       "    (' no special accommodations are needed.', 0.3866746425628662)],\n",
       "   ['machine learning', 'no special accommodations are needed']],\n",
       "  [['number_of_participants', 'training_duration'],\n",
       "   'How many people will be participating in the training? (Enter a number) How long should the training last? (Specify in hours or days)',\n",
       "   '3, 2 days',\n",
       "   'HR Assistant: Great, how many people will be attending this training? And approximately how long do you think it should last?  ',\n",
       "   \"Employee: Three people will be participating and we'd like it to run for two days.\",\n",
       "   [(' Three', 0.7069153785705566), (' two days.', 0.9258615970611572)],\n",
       "   ['Three', 'two days']],\n",
       "  [['budget_constraints', 'desired_training_outcomes'],\n",
       "   'What is your budget for this training? (Enter the amount in your local currency) What are the desired outcomes or goals of this training?',\n",
       "   '$5000, Improve research skills',\n",
       "   'HR Assistant: Okay, thanks. Do you have a budget in mind for this? It would also help to know what your goals are for your team after the training.',\n",
       "   'Employee: Our budget is $5000. We want to come away with better research skills.',\n",
       "   [(' $5000.', 0.961217999458313),\n",
       "    (' better research skills.', 0.5015414357185364)],\n",
       "   ['$5000', 'better research skills']],\n",
       "  [['preferred_training_dates', 'preferred_training_format'],\n",
       "   'What are your preferred dates for the training? (Enter the dates in YYYY-MM-DD format) What format do you prefer for the training? (e.g., Online, In-person, Workshop, Seminar)',\n",
       "   '2023-06-15, Online seminars',\n",
       "   'HR Assistant: No problem, when works best for your schedule? Also, do you have a preference for how the training is delivered, like online or in-person?',\n",
       "   \"Employee: We're hoping for some online seminars on June 15th, 2023.\",\n",
       "   [(' June 15th, 2023.', 0.7896389365196228),\n",
       "    (' online seminars', 0.4640331566333771)],\n",
       "   ['June 15th, 2023', 'online seminars']],\n",
       "  [['current_skill_level', 'contact_information'],\n",
       "   'What is the current skill level of the participants? (e.g., Beginner, Intermediate, Advanced) Please provide contact information for the person coordinating the training (Name, Email, Phone).',\n",
       "   'Intermediate, Henry Kim hkim@researchlab.com 555-1234',\n",
       "   \"HR Assistant: Sounds good. One last thing - would you say your team's current skill level is beginner, intermediate or advanced? And can you provide the contact info for the person coordinating it all?\",\n",
       "   'Employee: Their level is intermediate. The coordinator is Henry Kim and you can reach him at hkim@researchlab.com or 555-1234.',\n",
       "   [(' intermediate.', 0.8950538039207458),\n",
       "    (' hkim@researchlab.com or 555-1234.', 0.33038803935050964)],\n",
       "   ['intermediate', 'hkim@researchlab.com or 555-1234']]],\n",
       " \"\\nHR Assistant: Hi there, how can I help you out today?\\nEmployee: I'm hoping you can help me set up some machine learning training for my team.\\nHR Assistant: No problem, tell me a bit about what kind of training you're looking for. What will you guys be learning about and do you need any special accommodations?\\nEmployee: We're hoping to improve our machine learning research skills. But no special accommodations are needed.\\nHR Assistant: Great, how many people will be attending this training? And approximately how long do you think it should last?  \\nEmployee: Three people will be participating and we'd like it to run for two days.\\nHR Assistant: Okay, thanks. Do you have a budget in mind for this? It would also help to know what your goals are for your team after the training.\\nEmployee: Our budget is $5000. We want to come away with better research skills.\\nHR Assistant: No problem, when works best for your schedule? Also, do you have a preference for how the training is delivered, like online or in-person?\\nEmployee: We're hoping for some online seminars on June 15th, 2023.\\nHR Assistant: Sounds good. One last thing - would you say your team's current skill level is beginner, intermediate or advanced? And can you provide the contact info for the person coordinating it all?\\nEmployee: Their level is intermediate. The coordinator is Henry Kim and you can reach him at hkim@researchlab.com or 555-1234.\\n\"]"
      ]
     },
     "execution_count": 26,
     "metadata": {},
     "output_type": "execute_result"
    }
   ],
   "source": [
    "loaded_dict[1]"
   ]
  },
  {
   "cell_type": "code",
   "execution_count": 25,
   "metadata": {},
   "outputs": [
    {
     "data": {
      "text/plain": [
       "{'training_topic': 'Machine learning research',\n",
       " 'preferred_training_format': 'Online seminars',\n",
       " 'number_of_participants': 3,\n",
       " 'current_skill_level': 'Intermediate',\n",
       " 'desired_training_outcomes': 'Improve research skills',\n",
       " 'training_duration': '2 days',\n",
       " 'preferred_training_dates': '2023-06-15',\n",
       " 'budget_constraints': '$5000',\n",
       " 'special_requirements': 'None',\n",
       " 'contact_information': 'Henry Kim hkim@researchlab.com 555-1234',\n",
       " 'template': 'training_request'}"
      ]
     },
     "execution_count": 25,
     "metadata": {},
     "output_type": "execute_result"
    }
   ],
   "source": [
    "loaded_dict3[1]"
   ]
  },
  {
   "cell_type": "code",
   "execution_count": 52,
   "metadata": {},
   "outputs": [],
   "source": [
    "#The question is \n",
    "#The context is \n",
    "#The answer is \n",
    "#Does  equivalent to the answer? \n",
    "with open('/local/home/weijiexu/workspace/M2MHR/src/data/template.pkl', 'rb') as f:\n",
    "    templates = pickle.load(f)\n",
    "answers = []\n",
    "keys = []\n",
    "for index in loaded_dict:\n",
    "    for ind, value in enumerate(loaded_dict[index][0]):\n",
    "        length = len(value[-2])\n",
    "        for l in range(length):\n",
    "            if value[-2][l][1] < 0.1:\n",
    "                answer = []\n",
    "                answer.append(index )\n",
    "                answer.append(ind)\n",
    "                answer.append(l)\n",
    "                answer.append(value[4])\n",
    "                answer.append(\"Question: \" + k2q[value[0][l]] + \" There are two answers: \" + str(loaded_dict3[index][value[0][l]]) + \" and \"+ value[-2][l][0] + \". Are they equivalent?\")\n",
    "                answers.append(answer)"
   ]
  },
  {
   "cell_type": "code",
   "execution_count": 55,
   "metadata": {},
   "outputs": [],
   "source": [
    "import pandas as pd\n",
    "pd.DataFrame(answers, columns = ['index', 'turn', 'order', 'context', 'question']).to_csv('complete_labeling_task1.csv')"
   ]
  },
  {
   "cell_type": "code",
   "execution_count": 61,
   "metadata": {},
   "outputs": [],
   "source": [
    "raw = pd.DataFrame([i[-1] for i in answers]) \n",
    "raw.to_csv('raw_label_task1.csv', header=None)"
   ]
  },
  {
   "cell_type": "code",
   "execution_count": 59,
   "metadata": {},
   "outputs": [
    {
     "data": {
      "text/html": [
       "<div>\n",
       "<style scoped>\n",
       "    .dataframe tbody tr th:only-of-type {\n",
       "        vertical-align: middle;\n",
       "    }\n",
       "\n",
       "    .dataframe tbody tr th {\n",
       "        vertical-align: top;\n",
       "    }\n",
       "\n",
       "    .dataframe thead th {\n",
       "        text-align: right;\n",
       "    }\n",
       "</style>\n",
       "<table border=\"1\" class=\"dataframe\">\n",
       "  <thead>\n",
       "    <tr style=\"text-align: right;\">\n",
       "      <th></th>\n",
       "      <th>0</th>\n",
       "    </tr>\n",
       "  </thead>\n",
       "  <tbody>\n",
       "    <tr>\n",
       "      <th>0</th>\n",
       "      <td>Question: Please provide your contact informat...</td>\n",
       "    </tr>\n",
       "    <tr>\n",
       "      <th>1</th>\n",
       "      <td>Question: When did the harassment incident occ...</td>\n",
       "    </tr>\n",
       "    <tr>\n",
       "      <th>2</th>\n",
       "      <td>Question: Was there any property damage? If ye...</td>\n",
       "    </tr>\n",
       "    <tr>\n",
       "      <th>3</th>\n",
       "      <td>Question: Was there any property damage? If ye...</td>\n",
       "    </tr>\n",
       "    <tr>\n",
       "      <th>4</th>\n",
       "      <td>Question: How many individuals were affected b...</td>\n",
       "    </tr>\n",
       "    <tr>\n",
       "      <th>...</th>\n",
       "      <td>...</td>\n",
       "    </tr>\n",
       "    <tr>\n",
       "      <th>687</th>\n",
       "      <td>Question: How severe is the issue? (e.g., Low,...</td>\n",
       "    </tr>\n",
       "    <tr>\n",
       "      <th>688</th>\n",
       "      <td>Question: What is your action plan to achieve ...</td>\n",
       "    </tr>\n",
       "    <tr>\n",
       "      <th>689</th>\n",
       "      <td>Question: Are there any additional notes or in...</td>\n",
       "    </tr>\n",
       "    <tr>\n",
       "      <th>690</th>\n",
       "      <td>Question: Was there any property damage? If ye...</td>\n",
       "    </tr>\n",
       "    <tr>\n",
       "      <th>691</th>\n",
       "      <td>Question: When do you wish to relocate? (Enter...</td>\n",
       "    </tr>\n",
       "  </tbody>\n",
       "</table>\n",
       "<p>692 rows × 1 columns</p>\n",
       "</div>"
      ],
      "text/plain": [
       "                                                     0\n",
       "0    Question: Please provide your contact informat...\n",
       "1    Question: When did the harassment incident occ...\n",
       "2    Question: Was there any property damage? If ye...\n",
       "3    Question: Was there any property damage? If ye...\n",
       "4    Question: How many individuals were affected b...\n",
       "..                                                 ...\n",
       "687  Question: How severe is the issue? (e.g., Low,...\n",
       "688  Question: What is your action plan to achieve ...\n",
       "689  Question: Are there any additional notes or in...\n",
       "690  Question: Was there any property damage? If ye...\n",
       "691  Question: When do you wish to relocate? (Enter...\n",
       "\n",
       "[692 rows x 1 columns]"
      ]
     },
     "execution_count": 59,
     "metadata": {},
     "output_type": "execute_result"
    }
   ],
   "source": [
    "raw"
   ]
  },
  {
   "cell_type": "code",
   "execution_count": null,
   "metadata": {},
   "outputs": [],
   "source": [
    "|"
   ]
  }
 ],
 "metadata": {
  "kernelspec": {
   "display_name": "env-01",
   "language": "python",
   "name": "python3"
  },
  "language_info": {
   "codemirror_mode": {
    "name": "ipython",
    "version": 3
   },
   "file_extension": ".py",
   "mimetype": "text/x-python",
   "name": "python",
   "nbconvert_exporter": "python",
   "pygments_lexer": "ipython3",
   "version": "3.10.10"
  },
  "orig_nbformat": 4
 },
 "nbformat": 4,
 "nbformat_minor": 2
}
